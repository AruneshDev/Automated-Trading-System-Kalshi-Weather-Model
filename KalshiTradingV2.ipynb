{
 "cells": [
  {
   "cell_type": "markdown",
   "metadata": {},
   "source": [
    "### Install Kalshi - python"
   ]
  },
  {
   "cell_type": "code",
   "execution_count": null,
   "metadata": {},
   "outputs": [
    {
     "name": "stdout",
     "output_type": "stream",
     "text": [
      "Requirement already satisfied: kalshi-python in c:\\users\\arune\\appdata\\local\\programs\\python\\python39\\lib\\site-packages (2.0.0)Note: you may need to restart the kernel to use updated packages.\n",
      "\n",
      "Requirement already satisfied: python-dateutil in c:\\users\\arune\\appdata\\local\\programs\\python\\python39\\lib\\site-packages (from kalshi-python) (2.8.2)\n",
      "Requirement already satisfied: certifi in c:\\users\\arune\\appdata\\local\\programs\\python\\python39\\lib\\site-packages (from kalshi-python) (2023.11.17)\n",
      "Requirement already satisfied: urllib3>=1.15 in c:\\users\\arune\\appdata\\local\\programs\\python\\python39\\lib\\site-packages (from kalshi-python) (2.1.0)\n",
      "Requirement already satisfied: six>=1.10 in c:\\users\\arune\\appdata\\local\\programs\\python\\python39\\lib\\site-packages (from kalshi-python) (1.16.0)\n"
     ]
    },
    {
     "name": "stderr",
     "output_type": "stream",
     "text": [
      "WARNING: You are using pip version 21.1.1; however, version 24.0 is available.\n",
      "You should consider upgrading via the 'c:\\Users\\arune\\AppData\\Local\\Programs\\Python\\Python39\\python.exe -m pip install --upgrade pip' command.\n"
     ]
    }
   ],
   "source": [
    "pip install kalshi-python"
   ]
  },
  {
   "cell_type": "markdown",
   "metadata": {},
   "source": [
    "#### Create an .env file and add yoru credentials \n",
    "- DEMO_EMAIL=your_email\n",
    "- DEMO_PASSWORD=your_password"
   ]
  },
  {
   "cell_type": "code",
   "execution_count": null,
   "metadata": {},
   "outputs": [],
   "source": [
    "pip install python-dotenv\n"
   ]
  },
  {
   "cell_type": "code",
   "execution_count": 1,
   "metadata": {},
   "outputs": [],
   "source": [
    "# Welcome to the Kalshi REST v2 Starter Code!\n",
    "\n",
    "# pypi client: recommended for more advanced programmers\n",
    "import kalshi_python\n",
    "from pprint import pprint\n",
    "\n",
    "# starter client: recommended for all levels of programming experience (what this client is implemented using)\n",
    "from KalshiClientsBaseV2 import ExchangeClient\n",
    "import time\n",
    "import json\n",
    "import uuid\n",
    "from kalshi_python.models import *\n",
    "from datetime import datetime"
   ]
  },
  {
   "cell_type": "code",
   "execution_count": null,
   "metadata": {},
   "outputs": [],
   "source": [
    "import os\n",
    "from dotenv import load_dotenv\n",
    "\n",
    "# Load environment variables from .env file\n",
    "load_dotenv()\n",
    "\n",
    "demo_email = os.getenv(\"DEMO_EMAIL\")\n",
    "demo_password = os.getenv(\"DEMO_PASSWORD\")\n",
    "\n",
    "# for prod\n",
    "# prod_api_base = \"https://trading-api.kalshi.com/trade-api/v2\"\n",
    "\n",
    "# for demo\n",
    "demo_api_base = \"https://demo-api.kalshi.co/trade-api/v2\"\n",
    "\n",
    "## if wanting to test in demo\n",
    "exchange_client = ExchangeClient(\n",
    "    exchange_api_base=demo_api_base,\n",
    "    email=demo_email,\n",
    "    password=demo_password\n",
    ")\n",
    "\n",
    "# Check the exchange status to confirm the connection\n",
    "print(exchange_client.get_exchange_status())\n"
   ]
  },
  {
   "cell_type": "code",
   "execution_count": null,
   "metadata": {},
   "outputs": [
    {
     "name": "stdout",
     "output_type": "stream",
     "text": [
      "Exchange status response: \n",
      "{'exchange_active': True, 'trading_active': True}\n"
     ]
    }
   ],
   "source": [
    "import os\n",
    "from dotenv import load_dotenv\n",
    "import kalshi_python\n",
    "\n",
    "# Load environment variables from .env file\n",
    "load_dotenv()\n",
    "\n",
    "email = os.getenv(\"KALSHI_EMAIL\")\n",
    "password = os.getenv(\"KALSHI_PASSWORD\")\n",
    "\n",
    "config = kalshi_python.Configuration()\n",
    "# Comment the line below to use production\n",
    "config.host = 'https://demo-api.kalshi.co/trade-api/v2'\n",
    "\n",
    "# Create an API configuration passing your credentials.\n",
    "kalshi_api = kalshi_python.ApiInstance(\n",
    "    email=email,\n",
    "    password=password,\n",
    "    configuration=config,\n",
    ")\n",
    "\n",
    "# Checks if the exchange is available.\n",
    "exchangeStatus = kalshi_api.get_exchange_status()\n",
    "print('Exchange status response: ')\n",
    "print(exchangeStatus)\n"
   ]
  },
  {
   "cell_type": "code",
   "execution_count": 4,
   "metadata": {},
   "outputs": [
    {
     "name": "stdout",
     "output_type": "stream",
     "text": [
      "   Location  predicted_tempmax\n",
      "0  New York               49.0\n",
      "1   Chicago               51.0\n",
      "2    Austin               75.0\n",
      "3     Miami               84.0\n"
     ]
    }
   ],
   "source": [
    "import pandas as pd\n",
    "\n",
    "# Read the CSV file\n",
    "df = pd.read_csv('predicted_temperature_max.csv')\n",
    "print(df)\n",
    "# # Get the predicted temperature for Austin\n",
    "# predicted_temp_for_austin = df.loc[df['Location'] == 'Austin', 'predicted_tempmax'].values[0]\n",
    "# print(f\"Predicted Temperature for Austin: {predicted_temp_for_austin}\")\n"
   ]
  },
  {
   "cell_type": "code",
   "execution_count": 5,
   "metadata": {},
   "outputs": [],
   "source": [
    "def determine_market_ticker_from_response(eventResponse, predicted_max_temp):\n",
    "    for market in eventResponse.markets:\n",
    "        subtitle = market.subtitle  # Adjusted based on your object structure\n",
    "        if 'or below' in subtitle:\n",
    "            max_temp = int(subtitle.split('°')[0])\n",
    "            if predicted_max_temp <= max_temp:\n",
    "                return market.ticker.split('-')[-1]\n",
    "        elif 'or above' in subtitle:\n",
    "            min_temp = int(subtitle.split('°')[0]) + 1\n",
    "            if predicted_max_temp >= min_temp:\n",
    "                return market.ticker.split('-')[-1]\n",
    "        else:\n",
    "            # Handling ranges correctly by cleaning the string of non-numeric before conversion\n",
    "            temp_range = [int(temp.split('°')[0]) for temp in subtitle.split(' to ')]\n",
    "            if temp_range[0] <= predicted_max_temp <= temp_range[1]:\n",
    "                return market.ticker.split('-')[-1]\n",
    "    return None\n"
   ]
  },
  {
   "cell_type": "code",
   "execution_count": 11,
   "metadata": {},
   "outputs": [
    {
     "name": "stdout",
     "output_type": "stream",
     "text": [
      "\n",
      "Orderbook for market: HIGHNY-24APR03-B48.5\n",
      "{'orderbook': {'no': [], 'yes': [[99, 1]]}}\n",
      "\n",
      "Orderbook for market: HIGHCHI-24APR03-T42\n",
      "{'orderbook': {'no': [], 'yes': [[25, 50], [50, 20], [99, 1]]}}\n",
      "\n",
      "Orderbook for market: HIGHAUS-24APR03-B74.5\n",
      "{'orderbook': {'no': [], 'yes': [[99, 1]]}}\n",
      "\n",
      "Orderbook for market: HIGHMIA-24APR03-B84.5\n",
      "{'orderbook': {'no': [], 'yes': [[30, 1000], [99, 1]]}}\n"
     ]
    }
   ],
   "source": [
    "seriesTickers = {\n",
    "    'New York': 'HIGHNY',\n",
    "    'Chicago': 'HIGHCHI',\n",
    "    'Austin': 'HIGHAUS',\n",
    "    'Miami': 'HIGHMIA'\n",
    "}\n",
    "today = datetime.today()\n",
    "\n",
    "# print(f\"Processing cities: {df['Location'].tolist()}\")\n",
    "\n",
    "# for index, row in df.iterrows():\n",
    "#     city = row['Location']\n",
    "#     print(f\"Processing {city}...\")\n",
    "\n",
    "# # Format the date as 'YYMMDD'\n",
    "date_str = today.strftime('%y%b%d').upper()\n",
    "for index, row in df.iterrows():\n",
    "    city = row['Location']\n",
    "    predicted_max_temp = row['predicted_tempmax']\n",
    "    seriesTicker = seriesTickers[city]\n",
    "    \n",
    "\n",
    "    eventTicker = f'{seriesTicker}-{date_str}'\n",
    "    eventResponse = kalshi_api.get_event(eventTicker)  # Replace with actual API call\n",
    "    \n",
    "    # Parse the event response to find matching market ticker\n",
    "    # This code block assumes a function to parse and match the market ticker based on predicted temperature\n",
    "    matching_market_ticker = determine_market_ticker_from_response(eventResponse, predicted_max_temp)\n",
    "    \n",
    "    # Now you have the matching market ticker, you can retrieve the order book\n",
    "    marketTicker = f'{eventTicker}-{matching_market_ticker}'\n",
    "    orderbookResponse = kalshi_api.get_market_orderbook(marketTicker)  # Replace with actual API call\n",
    "    \n",
    "    print(f'\\nOrderbook for market: {marketTicker}')\n",
    "    # Assuming pprint is imported or defined\n",
    "    pprint(orderbookResponse)\n",
    "# print(dir(orderbookResponse))\n"
   ]
  },
  {
   "cell_type": "code",
   "execution_count": null,
   "metadata": {},
   "outputs": [],
   "source": [
    "yes_offers = orderbookResponse.orderbook.yes\n",
    "orderbook_dict = orderbookResponse.to_dict()\n",
    "yes_offers = orderbook_dict['orderbook']['yes']\n"
   ]
  },
  {
   "cell_type": "code",
   "execution_count": 16,
   "metadata": {},
   "outputs": [
    {
     "name": "stdout",
     "output_type": "stream",
     "text": [
      "\n",
      "Order submitted for New York: \n",
      "{'order': {'action': 'buy',\n",
      "           'client_order_id': '473a0902-560a-4bf6-972c-6983d1903f62',\n",
      "           'created_time': '2024-04-03T15:05:17.307775Z',\n",
      "           'expiration_time': None,\n",
      "           'no_price': 2,\n",
      "           'order_id': '60575f25-f4be-4ef1-b441-b66b12eafd5c',\n",
      "           'side': 'yes',\n",
      "           'status': 'resting',\n",
      "           'ticker': 'HIGHNY-24APR03-B48.5',\n",
      "           'type': 'limit',\n",
      "           'user_id': '8eb92856-b0cd-4c17-bc68-637fcde6ecfe',\n",
      "           'yes_price': 98}}\n",
      "\n",
      "Order submitted for Chicago: \n",
      "{'order': {'action': 'buy',\n",
      "           'client_order_id': 'd5a4dc45-977a-48df-8344-7875518ceafa',\n",
      "           'created_time': '2024-04-03T15:05:17.713731Z',\n",
      "           'expiration_time': None,\n",
      "           'no_price': 76,\n",
      "           'order_id': '6d6ecf7d-c09e-429b-85e4-e08d4c86631d',\n",
      "           'side': 'yes',\n",
      "           'status': 'resting',\n",
      "           'ticker': 'HIGHCHI-24APR03-T42',\n",
      "           'type': 'limit',\n",
      "           'user_id': '8eb92856-b0cd-4c17-bc68-637fcde6ecfe',\n",
      "           'yes_price': 24}}\n",
      "\n",
      "Order submitted for Austin: \n",
      "{'order': {'action': 'buy',\n",
      "           'client_order_id': 'ca8cea08-e463-4430-8957-d5cef592349e',\n",
      "           'created_time': '2024-04-03T15:05:18.136608Z',\n",
      "           'expiration_time': None,\n",
      "           'no_price': 2,\n",
      "           'order_id': '9493c7c1-f1c8-42c8-b7f1-c9e852c3bebb',\n",
      "           'side': 'yes',\n",
      "           'status': 'resting',\n",
      "           'ticker': 'HIGHAUS-24APR03-B74.5',\n",
      "           'type': 'limit',\n",
      "           'user_id': '8eb92856-b0cd-4c17-bc68-637fcde6ecfe',\n",
      "           'yes_price': 98}}\n",
      "\n",
      "Order submitted for Miami: \n",
      "{'order': {'action': 'buy',\n",
      "           'client_order_id': '8f91af1e-9db9-4344-8044-da64a0069d48',\n",
      "           'created_time': '2024-04-03T15:05:18.477094Z',\n",
      "           'expiration_time': None,\n",
      "           'no_price': 71,\n",
      "           'order_id': 'b53f78c1-09e1-46ef-9677-9c9aa97324a1',\n",
      "           'side': 'yes',\n",
      "           'status': 'resting',\n",
      "           'ticker': 'HIGHMIA-24APR03-B84.5',\n",
      "           'type': 'limit',\n",
      "           'user_id': '8eb92856-b0cd-4c17-bc68-637fcde6ecfe',\n",
      "           'yes_price': 29}}\n"
     ]
    }
   ],
   "source": [
    "orderbook_dict = orderbookResponse.to_dict()\n",
    "yes_offers = orderbook_dict['orderbook']['yes']\n",
    "for index, row in df.iterrows():\n",
    "    city = row['Location']\n",
    "    predicted_max_temp = row['predicted_tempmax']\n",
    "    seriesTicker = seriesTickers[city]\n",
    "\n",
    "    eventTicker = f'{seriesTicker}-{date_str}'\n",
    "    eventResponse = kalshi_api.get_event(eventTicker)\n",
    "\n",
    "    matching_market_ticker = determine_market_ticker_from_response(eventResponse, predicted_max_temp)\n",
    "    \n",
    "    if matching_market_ticker:\n",
    "        marketTicker = f'{eventTicker}-{matching_market_ticker}'\n",
    "        orderbookResponse = kalshi_api.get_market_orderbook(marketTicker)\n",
    "        \n",
    "        # Convert the orderbookResponse to a dictionary to access 'yes' and 'no' offers\n",
    "        orderbook_dict = orderbookResponse.to_dict()\n",
    "        yes_offers = orderbook_dict['orderbook']['yes'] if 'yes' in orderbook_dict['orderbook'] else []\n",
    "        \n",
    "        if yes_offers:\n",
    "            best_yes_offer = min([offer[0] for offer in yes_offers])\n",
    "            \n",
    "            if exchangeStatus.trading_active:\n",
    "                orderUuid = str(uuid.uuid4())\n",
    "                orderResponse = kalshi_api.create_order(CreateOrderRequest(       \n",
    "                    ticker=marketTicker,\n",
    "                    action='buy',\n",
    "                    type='limit',\n",
    "                    yes_price=best_yes_offer - 1,  # Adjust based on your strategy\n",
    "                    count=1000,  # And your desired amount\n",
    "                    client_order_id=orderUuid,\n",
    "                    side='yes',\n",
    "                ))\n",
    "                print(f'\\nOrder submitted for {city}: ')\n",
    "                pprint(orderResponse)\n",
    "        else:\n",
    "            print(f'\\nNo \"yes\" offers available for {city}, no orders will be placed.')\n",
    "    else:\n",
    "        print(f'No matching market ticker found for {city} based on the predicted temperature.')\n",
    " "
   ]
  }
 ],
 "metadata": {
  "kernelspec": {
   "display_name": "Python 3.10.6 ('poirot-vcTB4MYn-py3.10')",
   "language": "python",
   "name": "python3"
  },
  "language_info": {
   "codemirror_mode": {
    "name": "ipython",
    "version": 3
   },
   "file_extension": ".py",
   "mimetype": "text/x-python",
   "name": "python",
   "nbconvert_exporter": "python",
   "pygments_lexer": "ipython3",
   "version": "3.9.5"
  },
  "orig_nbformat": 2,
  "vscode": {
   "interpreter": {
    "hash": "1e51d4bf4e6bbe92f2ac3572d179994f6afffdaaebc6d7bcc5f1b4952a9d4584"
   }
  }
 },
 "nbformat": 4,
 "nbformat_minor": 2
}
